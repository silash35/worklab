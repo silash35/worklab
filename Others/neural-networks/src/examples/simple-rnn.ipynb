{
 "cells": [
  {
   "cell_type": "code",
   "execution_count": null,
   "metadata": {},
   "outputs": [],
   "source": [
    "import os\n",
    "\n",
    "os.environ[\"TF_CPP_MIN_LOG_LEVEL\"] = \"3\"  # Silêncio TensorFlow!\n"
   ]
  },
  {
   "cell_type": "code",
   "execution_count": null,
   "metadata": {},
   "outputs": [
    {
     "name": "stderr",
     "output_type": "stream",
     "text": [
      "WARNING: All log messages before absl::InitializeLog() is called are written to STDERR\n",
      "E0000 00:00:1743002388.174327   41419 cuda_dnn.cc:8579] Unable to register cuDNN factory: Attempting to register factory for plugin cuDNN when one has already been registered\n",
      "E0000 00:00:1743002388.183627   41419 cuda_blas.cc:1407] Unable to register cuBLAS factory: Attempting to register factory for plugin cuBLAS when one has already been registered\n",
      "W0000 00:00:1743002388.208824   41419 computation_placer.cc:177] computation placer already registered. Please check linkage and avoid linking the same target more than once.\n",
      "W0000 00:00:1743002388.208864   41419 computation_placer.cc:177] computation placer already registered. Please check linkage and avoid linking the same target more than once.\n",
      "W0000 00:00:1743002388.208867   41419 computation_placer.cc:177] computation placer already registered. Please check linkage and avoid linking the same target more than once.\n",
      "W0000 00:00:1743002388.208869   41419 computation_placer.cc:177] computation placer already registered. Please check linkage and avoid linking the same target more than once.\n"
     ]
    },
    {
     "name": "stdout",
     "output_type": "stream",
     "text": [
      "\u001b[1m1/1\u001b[0m \u001b[32m━━━━━━━━━━━━━━━━━━━━\u001b[0m\u001b[37m\u001b[0m \u001b[1m0s\u001b[0m 140ms/step\n",
      "O próximo número previsto é: 8.312190055847168\n"
     ]
    }
   ],
   "source": [
    "import numpy as np\n",
    "from tensorflow import keras  # type: ignore\n",
    "\n",
    "# Definindo a sequência\n",
    "sequence = np.array([1, 2, 3, 4, 5, 6, 6, 7, 8, 9])\n",
    "\n",
    "# Criando dados de treinamento\n",
    "# X são os números anteriores e Y o próximo número na sequência\n",
    "X = []\n",
    "Y = []\n",
    "\n",
    "# Definindo janelas deslizantes para os dados de entrada e saída\n",
    "window_size = 3  # Usar 3 números anteriores para prever o próximo\n",
    "for i in range(len(sequence) - window_size):\n",
    "    X.append(sequence[i : i + window_size])\n",
    "    Y.append(sequence[i + window_size])\n",
    "\n",
    "# Convertendo para arrays numpy\n",
    "X = np.array(X)\n",
    "Y = np.array(Y)\n",
    "\n",
    "# Reformatação dos dados para o formato esperado pela RNN\n",
    "# [samples, time steps, features]\n",
    "X = X.reshape((X.shape[0], X.shape[1], 1))\n",
    "\n",
    "# Criando o modelo de RNN\n",
    "model = keras.Sequential()\n",
    "model.add(keras.layers.Input((window_size, 1)))\n",
    "model.add(keras.layers.SimpleRNN(50, activation=\"relu\"))\n",
    "model.add(keras.layers.Dense(1))\n",
    "\n",
    "# Compilando o modelo\n",
    "model.compile(optimizer=\"adam\", loss=\"mse\")\n",
    "\n",
    "# Treinando o modelo\n",
    "model.fit(X, Y, epochs=300, verbose=0)\n",
    "\n",
    "# Prevendo o próximo número da sequência\n",
    "input_sequence = np.array([5.5, 6.5, 7.5])\n",
    "input_sequence = input_sequence.reshape((1, 3, 1))  # Reformatando para o input da RNN\n",
    "predicted_number = model.predict(input_sequence)\n",
    "\n",
    "print(f\"O próximo número previsto é: {predicted_number[0][0]}\")\n"
   ]
  }
 ],
 "metadata": {
  "kernelspec": {
   "display_name": ".venv",
   "language": "python",
   "name": "python3"
  },
  "language_info": {
   "codemirror_mode": {
    "name": "ipython",
    "version": 3
   },
   "file_extension": ".py",
   "mimetype": "text/x-python",
   "name": "python",
   "nbconvert_exporter": "python",
   "pygments_lexer": "ipython3",
   "version": "3.12.9"
  }
 },
 "nbformat": 4,
 "nbformat_minor": 2
}
